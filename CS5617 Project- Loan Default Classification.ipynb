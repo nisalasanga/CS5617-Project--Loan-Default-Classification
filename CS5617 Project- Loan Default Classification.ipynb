{
 "cells": [
  {
   "cell_type": "markdown",
   "id": "f2278dcf",
   "metadata": {},
   "source": [
    "### Importing Libraries"
   ]
  },
  {
   "cell_type": "code",
   "execution_count": 451,
   "id": "3c2b45f1",
   "metadata": {},
   "outputs": [],
   "source": [
    "import pandas as pd\n",
    "import numpy as np\n",
    "\n",
    "from sklearn.linear_model import LogisticRegression\n",
    "from sklearn.tree import DecisionTreeClassifier\n",
    "from xgboost import XGBClassifier\n",
    "\n",
    "from sklearn.preprocessing import LabelEncoder\n",
    "from sklearn.preprocessing import OneHotEncoder\n",
    "\n",
    "from sklearn.model_selection import train_test_split\n",
    "from sklearn.model_selection import GridSearchCV\n",
    "\n",
    "from sklearn.preprocessing import StandardScaler,Normalizer\n",
    "from sklearn.decomposition import PCA\n",
    "\n",
    "from sklearn.metrics import confusion_matrix\n",
    "from sklearn.metrics import accuracy_score,precision_score.f1_score,recall_score,make_scorer\n",
    "\n",
    "import seaborn as sns\n",
    "import matplotlib.pyplot as plt"
   ]
  },
  {
   "cell_type": "markdown",
   "id": "b7ab8fe3",
   "metadata": {},
   "source": [
    "### Reading Data"
   ]
  },
  {
   "cell_type": "code",
   "execution_count": 452,
   "id": "8c971e22",
   "metadata": {},
   "outputs": [],
   "source": [
    "train = pd.read_csv(r\"F:\\MSC\\CS5617 - Data Science\\Project\\Dataset\\train_indessa.csv\")\n",
    "test = pd.read_csv(r\"F:\\MSC\\CS5617 - Data Science\\Project\\Dataset\\test_indessa.csv\")"
   ]
  },
  {
   "cell_type": "markdown",
   "id": "44c1f628",
   "metadata": {},
   "source": [
    "### Data Preprocessing"
   ]
  },
  {
   "cell_type": "code",
   "execution_count": 453,
   "id": "6159ffc4",
   "metadata": {},
   "outputs": [
    {
     "name": "stdout",
     "output_type": "stream",
     "text": [
      "train shape: (532428, 45)\n",
      "test shape: (354951, 44)\n"
     ]
    }
   ],
   "source": [
    "print(\"train shape:\",train.shape)\n",
    "print(\"test shape:\",test.shape)"
   ]
  },
  {
   "cell_type": "code",
   "execution_count": 454,
   "id": "d178e65f",
   "metadata": {},
   "outputs": [
    {
     "data": {
      "text/plain": [
       "Index(['member_id', 'loan_amnt', 'funded_amnt', 'funded_amnt_inv', 'term',\n",
       "       'batch_enrolled', 'int_rate', 'grade', 'sub_grade', 'emp_title',\n",
       "       'emp_length', 'home_ownership', 'annual_inc', 'verification_status',\n",
       "       'pymnt_plan', 'desc', 'purpose', 'title', 'zip_code', 'addr_state',\n",
       "       'dti', 'delinq_2yrs', 'inq_last_6mths', 'mths_since_last_delinq',\n",
       "       'mths_since_last_record', 'open_acc', 'pub_rec', 'revol_bal',\n",
       "       'revol_util', 'total_acc', 'initial_list_status', 'total_rec_int',\n",
       "       'total_rec_late_fee', 'recoveries', 'collection_recovery_fee',\n",
       "       'collections_12_mths_ex_med', 'mths_since_last_major_derog',\n",
       "       'application_type', 'verification_status_joint', 'last_week_pay',\n",
       "       'acc_now_delinq', 'tot_coll_amt', 'tot_cur_bal', 'total_rev_hi_lim',\n",
       "       'loan_status'],\n",
       "      dtype='object')"
      ]
     },
     "execution_count": 454,
     "metadata": {},
     "output_type": "execute_result"
    }
   ],
   "source": [
    "train.columns"
   ]
  },
  {
   "cell_type": "code",
   "execution_count": 455,
   "id": "d52cbc7a",
   "metadata": {},
   "outputs": [
    {
     "data": {
      "text/plain": [
       "Index(['member_id', 'loan_amnt', 'funded_amnt', 'funded_amnt_inv', 'term',\n",
       "       'batch_enrolled', 'int_rate', 'grade', 'sub_grade', 'emp_title',\n",
       "       'emp_length', 'home_ownership', 'annual_inc', 'verification_status',\n",
       "       'pymnt_plan', 'desc', 'purpose', 'title', 'zip_code', 'addr_state',\n",
       "       'dti', 'delinq_2yrs', 'inq_last_6mths', 'mths_since_last_delinq',\n",
       "       'mths_since_last_record', 'open_acc', 'pub_rec', 'revol_bal',\n",
       "       'revol_util', 'total_acc', 'initial_list_status', 'total_rec_int',\n",
       "       'total_rec_late_fee', 'recoveries', 'collection_recovery_fee',\n",
       "       'collections_12_mths_ex_med', 'mths_since_last_major_derog',\n",
       "       'application_type', 'verification_status_joint', 'last_week_pay',\n",
       "       'acc_now_delinq', 'tot_coll_amt', 'tot_cur_bal', 'total_rev_hi_lim'],\n",
       "      dtype='object')"
      ]
     },
     "execution_count": 455,
     "metadata": {},
     "output_type": "execute_result"
    }
   ],
   "source": [
    "test.columns"
   ]
  },
  {
   "cell_type": "markdown",
   "id": "abdbf8bd",
   "metadata": {},
   "source": [
    "#### Test dataset doesn't  has 'loan_status' column which is what we going to predict.Therefore we cant use above test dataset for testing purpose.Creating a testing dataset using train is the only option."
   ]
  },
  {
   "cell_type": "code",
   "execution_count": 456,
   "id": "b50dcbce",
   "metadata": {},
   "outputs": [
    {
     "data": {
      "text/plain": [
       "member_id                        int64\n",
       "loan_amnt                        int64\n",
       "funded_amnt                      int64\n",
       "funded_amnt_inv                float64\n",
       "term                            object\n",
       "batch_enrolled                  object\n",
       "int_rate                       float64\n",
       "grade                           object\n",
       "sub_grade                       object\n",
       "emp_title                       object\n",
       "emp_length                      object\n",
       "home_ownership                  object\n",
       "annual_inc                     float64\n",
       "verification_status             object\n",
       "pymnt_plan                      object\n",
       "desc                            object\n",
       "purpose                         object\n",
       "title                           object\n",
       "zip_code                        object\n",
       "addr_state                      object\n",
       "dti                            float64\n",
       "delinq_2yrs                    float64\n",
       "inq_last_6mths                 float64\n",
       "mths_since_last_delinq         float64\n",
       "mths_since_last_record         float64\n",
       "open_acc                       float64\n",
       "pub_rec                        float64\n",
       "revol_bal                      float64\n",
       "revol_util                     float64\n",
       "total_acc                      float64\n",
       "initial_list_status             object\n",
       "total_rec_int                  float64\n",
       "total_rec_late_fee             float64\n",
       "recoveries                     float64\n",
       "collection_recovery_fee        float64\n",
       "collections_12_mths_ex_med     float64\n",
       "mths_since_last_major_derog    float64\n",
       "application_type                object\n",
       "verification_status_joint       object\n",
       "last_week_pay                   object\n",
       "acc_now_delinq                 float64\n",
       "tot_coll_amt                   float64\n",
       "tot_cur_bal                    float64\n",
       "total_rev_hi_lim               float64\n",
       "loan_status                      int64\n",
       "dtype: object"
      ]
     },
     "execution_count": 456,
     "metadata": {},
     "output_type": "execute_result"
    }
   ],
   "source": [
    "train.dtypes"
   ]
  },
  {
   "cell_type": "code",
   "execution_count": 457,
   "id": "0bd63482",
   "metadata": {},
   "outputs": [],
   "source": [
    "# Data Types\n",
    "\n",
    "# loan_amnt                     Metric Continuous\n",
    "# funded_amnt                   Metric Continuous\n",
    "# funded_amnt_inv               Metric Continuous\n",
    "# int_rate                      Metric Continuous\n",
    "# annual_inc                    Metric Continuous\n",
    "# dti                           Metric Continuous\n",
    "# delinq_2yrs                   Metric Continuous\n",
    "# inq_last_6mths                Metric Continuous\n",
    "# mths_since_last_delinq        Metric Continuous\n",
    "# mths_since_last_record        Metric Continuous\n",
    "# open_acc                      Metric Continuous\n",
    "# pub_rec                       Metric Continuous\n",
    "# revol_bal                     Metric Continuous\n",
    "# revol_util                    Metric Continuous\n",
    "# total_acc                     Metric Continuous\n",
    "# total_rec_int                 Metric Continuous\n",
    "# total_rec_late_fee            Metric Continuous\n",
    "# recoveries                    Metric Continuous\n",
    "# collection_recovery_fee       Metric Continuous\n",
    "# collections_12_mths_ex_med    Metric Continuous\n",
    "# mths_since_last_major_derog   Metric Continuous\n",
    "# last_week_pay                 Metric Continuous\n",
    "# acc_now_delinq                Metric Continuous\n",
    "# tot_coll_amt                  Metric Continuous\n",
    "# tot_cur_bal                   Metric Continuous\n",
    "# total_rev_hi_lim              Metric Continuous\n",
    "\n",
    "# term                     Categorical ordinal\n",
    "# grade                    Categorical ordinal\n",
    "# sub_grade                Categorical ordinal\n",
    "# emp_length               Categorical ordinal\n",
    "# last_week_pay            Categorical ordinal\n",
    "\n",
    "# home_ownership           Categorical nominal\n",
    "# verification_status      Categorical nominal\n",
    "# pymnt_plan               Categorical nominal\n",
    "# purpose                  Categorical nominal\n",
    "# title                    Categorical nominal\n",
    "# zip_code                 Categorical nominal\n",
    "# addr_state               Categorical nominal\n",
    "# initial_list_status      Categorical nominal\n",
    "# application_type         Categorical nominal\n",
    "# loan_status              Categorical nominal\n",
    "# batch_enrolled           Categorical nominal\n"
   ]
  },
  {
   "cell_type": "code",
   "execution_count": 458,
   "id": "a5096a0d",
   "metadata": {},
   "outputs": [],
   "source": [
    "# No any duplicates great!!!\n",
    "dup = train[train.duplicated()]\n",
    "#dup.count()"
   ]
  },
  {
   "cell_type": "code",
   "execution_count": 459,
   "id": "f2ebb57c",
   "metadata": {
    "scrolled": true
   },
   "outputs": [
    {
     "data": {
      "text/html": [
       "<div>\n",
       "<style scoped>\n",
       "    .dataframe tbody tr th:only-of-type {\n",
       "        vertical-align: middle;\n",
       "    }\n",
       "\n",
       "    .dataframe tbody tr th {\n",
       "        vertical-align: top;\n",
       "    }\n",
       "\n",
       "    .dataframe thead th {\n",
       "        text-align: right;\n",
       "    }\n",
       "</style>\n",
       "<table border=\"1\" class=\"dataframe\">\n",
       "  <thead>\n",
       "    <tr style=\"text-align: right;\">\n",
       "      <th></th>\n",
       "      <th>Null value count</th>\n",
       "      <th>%Null count</th>\n",
       "    </tr>\n",
       "  </thead>\n",
       "  <tbody>\n",
       "    <tr>\n",
       "      <th>verification_status_joint</th>\n",
       "      <td>532123</td>\n",
       "      <td>100.0</td>\n",
       "    </tr>\n",
       "    <tr>\n",
       "      <th>desc</th>\n",
       "      <td>456829</td>\n",
       "      <td>86.0</td>\n",
       "    </tr>\n",
       "    <tr>\n",
       "      <th>mths_since_last_record</th>\n",
       "      <td>450305</td>\n",
       "      <td>85.0</td>\n",
       "    </tr>\n",
       "    <tr>\n",
       "      <th>mths_since_last_major_derog</th>\n",
       "      <td>399448</td>\n",
       "      <td>75.0</td>\n",
       "    </tr>\n",
       "    <tr>\n",
       "      <th>mths_since_last_delinq</th>\n",
       "      <td>272554</td>\n",
       "      <td>51.0</td>\n",
       "    </tr>\n",
       "    <tr>\n",
       "      <th>batch_enrolled</th>\n",
       "      <td>85149</td>\n",
       "      <td>16.0</td>\n",
       "    </tr>\n",
       "    <tr>\n",
       "      <th>total_rev_hi_lim</th>\n",
       "      <td>42004</td>\n",
       "      <td>8.0</td>\n",
       "    </tr>\n",
       "    <tr>\n",
       "      <th>tot_cur_bal</th>\n",
       "      <td>42004</td>\n",
       "      <td>8.0</td>\n",
       "    </tr>\n",
       "    <tr>\n",
       "      <th>tot_coll_amt</th>\n",
       "      <td>42004</td>\n",
       "      <td>8.0</td>\n",
       "    </tr>\n",
       "    <tr>\n",
       "      <th>emp_title</th>\n",
       "      <td>30833</td>\n",
       "      <td>6.0</td>\n",
       "    </tr>\n",
       "    <tr>\n",
       "      <th>emp_length</th>\n",
       "      <td>26891</td>\n",
       "      <td>5.0</td>\n",
       "    </tr>\n",
       "    <tr>\n",
       "      <th>revol_util</th>\n",
       "      <td>287</td>\n",
       "      <td>0.0</td>\n",
       "    </tr>\n",
       "    <tr>\n",
       "      <th>collections_12_mths_ex_med</th>\n",
       "      <td>95</td>\n",
       "      <td>0.0</td>\n",
       "    </tr>\n",
       "    <tr>\n",
       "      <th>title</th>\n",
       "      <td>90</td>\n",
       "      <td>0.0</td>\n",
       "    </tr>\n",
       "    <tr>\n",
       "      <th>open_acc</th>\n",
       "      <td>16</td>\n",
       "      <td>0.0</td>\n",
       "    </tr>\n",
       "    <tr>\n",
       "      <th>pub_rec</th>\n",
       "      <td>16</td>\n",
       "      <td>0.0</td>\n",
       "    </tr>\n",
       "    <tr>\n",
       "      <th>delinq_2yrs</th>\n",
       "      <td>16</td>\n",
       "      <td>0.0</td>\n",
       "    </tr>\n",
       "    <tr>\n",
       "      <th>inq_last_6mths</th>\n",
       "      <td>16</td>\n",
       "      <td>0.0</td>\n",
       "    </tr>\n",
       "    <tr>\n",
       "      <th>acc_now_delinq</th>\n",
       "      <td>16</td>\n",
       "      <td>0.0</td>\n",
       "    </tr>\n",
       "    <tr>\n",
       "      <th>total_acc</th>\n",
       "      <td>16</td>\n",
       "      <td>0.0</td>\n",
       "    </tr>\n",
       "    <tr>\n",
       "      <th>annual_inc</th>\n",
       "      <td>3</td>\n",
       "      <td>0.0</td>\n",
       "    </tr>\n",
       "    <tr>\n",
       "      <th>recoveries</th>\n",
       "      <td>0</td>\n",
       "      <td>0.0</td>\n",
       "    </tr>\n",
       "    <tr>\n",
       "      <th>total_rec_late_fee</th>\n",
       "      <td>0</td>\n",
       "      <td>0.0</td>\n",
       "    </tr>\n",
       "    <tr>\n",
       "      <th>total_rec_int</th>\n",
       "      <td>0</td>\n",
       "      <td>0.0</td>\n",
       "    </tr>\n",
       "    <tr>\n",
       "      <th>collection_recovery_fee</th>\n",
       "      <td>0</td>\n",
       "      <td>0.0</td>\n",
       "    </tr>\n",
       "    <tr>\n",
       "      <th>initial_list_status</th>\n",
       "      <td>0</td>\n",
       "      <td>0.0</td>\n",
       "    </tr>\n",
       "    <tr>\n",
       "      <th>application_type</th>\n",
       "      <td>0</td>\n",
       "      <td>0.0</td>\n",
       "    </tr>\n",
       "    <tr>\n",
       "      <th>last_week_pay</th>\n",
       "      <td>0</td>\n",
       "      <td>0.0</td>\n",
       "    </tr>\n",
       "    <tr>\n",
       "      <th>member_id</th>\n",
       "      <td>0</td>\n",
       "      <td>0.0</td>\n",
       "    </tr>\n",
       "    <tr>\n",
       "      <th>revol_bal</th>\n",
       "      <td>0</td>\n",
       "      <td>0.0</td>\n",
       "    </tr>\n",
       "    <tr>\n",
       "      <th>loan_amnt</th>\n",
       "      <td>0</td>\n",
       "      <td>0.0</td>\n",
       "    </tr>\n",
       "    <tr>\n",
       "      <th>dti</th>\n",
       "      <td>0</td>\n",
       "      <td>0.0</td>\n",
       "    </tr>\n",
       "    <tr>\n",
       "      <th>addr_state</th>\n",
       "      <td>0</td>\n",
       "      <td>0.0</td>\n",
       "    </tr>\n",
       "    <tr>\n",
       "      <th>zip_code</th>\n",
       "      <td>0</td>\n",
       "      <td>0.0</td>\n",
       "    </tr>\n",
       "    <tr>\n",
       "      <th>purpose</th>\n",
       "      <td>0</td>\n",
       "      <td>0.0</td>\n",
       "    </tr>\n",
       "    <tr>\n",
       "      <th>pymnt_plan</th>\n",
       "      <td>0</td>\n",
       "      <td>0.0</td>\n",
       "    </tr>\n",
       "    <tr>\n",
       "      <th>verification_status</th>\n",
       "      <td>0</td>\n",
       "      <td>0.0</td>\n",
       "    </tr>\n",
       "    <tr>\n",
       "      <th>home_ownership</th>\n",
       "      <td>0</td>\n",
       "      <td>0.0</td>\n",
       "    </tr>\n",
       "    <tr>\n",
       "      <th>sub_grade</th>\n",
       "      <td>0</td>\n",
       "      <td>0.0</td>\n",
       "    </tr>\n",
       "    <tr>\n",
       "      <th>grade</th>\n",
       "      <td>0</td>\n",
       "      <td>0.0</td>\n",
       "    </tr>\n",
       "    <tr>\n",
       "      <th>int_rate</th>\n",
       "      <td>0</td>\n",
       "      <td>0.0</td>\n",
       "    </tr>\n",
       "    <tr>\n",
       "      <th>term</th>\n",
       "      <td>0</td>\n",
       "      <td>0.0</td>\n",
       "    </tr>\n",
       "    <tr>\n",
       "      <th>funded_amnt_inv</th>\n",
       "      <td>0</td>\n",
       "      <td>0.0</td>\n",
       "    </tr>\n",
       "    <tr>\n",
       "      <th>funded_amnt</th>\n",
       "      <td>0</td>\n",
       "      <td>0.0</td>\n",
       "    </tr>\n",
       "    <tr>\n",
       "      <th>loan_status</th>\n",
       "      <td>0</td>\n",
       "      <td>0.0</td>\n",
       "    </tr>\n",
       "  </tbody>\n",
       "</table>\n",
       "</div>"
      ],
      "text/plain": [
       "                             Null value count  %Null count\n",
       "verification_status_joint              532123        100.0\n",
       "desc                                   456829         86.0\n",
       "mths_since_last_record                 450305         85.0\n",
       "mths_since_last_major_derog            399448         75.0\n",
       "mths_since_last_delinq                 272554         51.0\n",
       "batch_enrolled                          85149         16.0\n",
       "total_rev_hi_lim                        42004          8.0\n",
       "tot_cur_bal                             42004          8.0\n",
       "tot_coll_amt                            42004          8.0\n",
       "emp_title                               30833          6.0\n",
       "emp_length                              26891          5.0\n",
       "revol_util                                287          0.0\n",
       "collections_12_mths_ex_med                 95          0.0\n",
       "title                                      90          0.0\n",
       "open_acc                                   16          0.0\n",
       "pub_rec                                    16          0.0\n",
       "delinq_2yrs                                16          0.0\n",
       "inq_last_6mths                             16          0.0\n",
       "acc_now_delinq                             16          0.0\n",
       "total_acc                                  16          0.0\n",
       "annual_inc                                  3          0.0\n",
       "recoveries                                  0          0.0\n",
       "total_rec_late_fee                          0          0.0\n",
       "total_rec_int                               0          0.0\n",
       "collection_recovery_fee                     0          0.0\n",
       "initial_list_status                         0          0.0\n",
       "application_type                            0          0.0\n",
       "last_week_pay                               0          0.0\n",
       "member_id                                   0          0.0\n",
       "revol_bal                                   0          0.0\n",
       "loan_amnt                                   0          0.0\n",
       "dti                                         0          0.0\n",
       "addr_state                                  0          0.0\n",
       "zip_code                                    0          0.0\n",
       "purpose                                     0          0.0\n",
       "pymnt_plan                                  0          0.0\n",
       "verification_status                         0          0.0\n",
       "home_ownership                              0          0.0\n",
       "sub_grade                                   0          0.0\n",
       "grade                                       0          0.0\n",
       "int_rate                                    0          0.0\n",
       "term                                        0          0.0\n",
       "funded_amnt_inv                             0          0.0\n",
       "funded_amnt                                 0          0.0\n",
       "loan_status                                 0          0.0"
      ]
     },
     "execution_count": 459,
     "metadata": {},
     "output_type": "execute_result"
    }
   ],
   "source": [
    "#Checking Null value count\n",
    "\n",
    "nulldata = pd.DataFrame(train.isna().sum(),columns =['Null value count'])\n",
    "nulldata['%Null count'] = np.round((nulldata['Null value count']/train.shape[0])*100,0)\n",
    "nulldata.sort_values(by=['Null value count'],ascending = False)"
   ]
  },
  {
   "cell_type": "code",
   "execution_count": 460,
   "id": "de5d6661",
   "metadata": {},
   "outputs": [],
   "source": [
    "# Droping 'desc' column because 'purpose' column describe significant amount of details in the 'desc' column\n",
    "# Also droping 'verification_status_joint' coumn which has 100 % Null values\n",
    "# Also droping 'member_id' column \n",
    "train = train.drop(['desc','verification_status_joint','member_id','emp_title'], axis=1)\n",
    "\n",
    "\n",
    "#Look again in to in 'emp_title' columns"
   ]
  },
  {
   "cell_type": "code",
   "execution_count": 461,
   "id": "540ffe66",
   "metadata": {},
   "outputs": [],
   "source": [
    "#Filling missing values\n",
    "\n",
    "# Assuming that'mths_since_last_delinq', 'mths_since_last_record' null values as customers that has no deliquency.\n",
    "# Late payments and delinquencies are negative indicators of creditworthiness, \n",
    "# and a longer period since 'last_delinq' may be viewed more risky. \n",
    "# Therefore, a lower value for \"mths_since_last_delinq\" could indicate a lower credit risk, \n",
    "# while a higher value may suggest a higher risk.\n",
    "\n",
    "# 'mths_since_last_major_derog' is also an important varible therefore setting null values with '0' to indicate\n",
    "# customers with high values with high derog effect\n",
    "\n",
    "\n",
    "train['mths_since_last_delinq'] = train['mths_since_last_delinq'].fillna(0)\n",
    "train['mths_since_last_record'] = train['mths_since_last_record'].fillna(0)\n",
    "train['mths_since_last_major_derog'] = train['mths_since_last_major_derog'].fillna(0)"
   ]
  },
  {
   "cell_type": "code",
   "execution_count": 462,
   "id": "92b9712b",
   "metadata": {},
   "outputs": [
    {
     "data": {
      "text/html": [
       "<div>\n",
       "<style scoped>\n",
       "    .dataframe tbody tr th:only-of-type {\n",
       "        vertical-align: middle;\n",
       "    }\n",
       "\n",
       "    .dataframe tbody tr th {\n",
       "        vertical-align: top;\n",
       "    }\n",
       "\n",
       "    .dataframe thead th {\n",
       "        text-align: right;\n",
       "    }\n",
       "</style>\n",
       "<table border=\"1\" class=\"dataframe\">\n",
       "  <thead>\n",
       "    <tr style=\"text-align: right;\">\n",
       "      <th></th>\n",
       "      <th>Null value count</th>\n",
       "      <th>%Null count</th>\n",
       "    </tr>\n",
       "  </thead>\n",
       "  <tbody>\n",
       "    <tr>\n",
       "      <th>batch_enrolled</th>\n",
       "      <td>85149</td>\n",
       "      <td>16.0</td>\n",
       "    </tr>\n",
       "    <tr>\n",
       "      <th>total_rev_hi_lim</th>\n",
       "      <td>42004</td>\n",
       "      <td>8.0</td>\n",
       "    </tr>\n",
       "    <tr>\n",
       "      <th>tot_cur_bal</th>\n",
       "      <td>42004</td>\n",
       "      <td>8.0</td>\n",
       "    </tr>\n",
       "    <tr>\n",
       "      <th>tot_coll_amt</th>\n",
       "      <td>42004</td>\n",
       "      <td>8.0</td>\n",
       "    </tr>\n",
       "    <tr>\n",
       "      <th>emp_length</th>\n",
       "      <td>26891</td>\n",
       "      <td>5.0</td>\n",
       "    </tr>\n",
       "    <tr>\n",
       "      <th>revol_util</th>\n",
       "      <td>287</td>\n",
       "      <td>0.0</td>\n",
       "    </tr>\n",
       "    <tr>\n",
       "      <th>collections_12_mths_ex_med</th>\n",
       "      <td>95</td>\n",
       "      <td>0.0</td>\n",
       "    </tr>\n",
       "    <tr>\n",
       "      <th>title</th>\n",
       "      <td>90</td>\n",
       "      <td>0.0</td>\n",
       "    </tr>\n",
       "    <tr>\n",
       "      <th>open_acc</th>\n",
       "      <td>16</td>\n",
       "      <td>0.0</td>\n",
       "    </tr>\n",
       "    <tr>\n",
       "      <th>total_acc</th>\n",
       "      <td>16</td>\n",
       "      <td>0.0</td>\n",
       "    </tr>\n",
       "    <tr>\n",
       "      <th>inq_last_6mths</th>\n",
       "      <td>16</td>\n",
       "      <td>0.0</td>\n",
       "    </tr>\n",
       "    <tr>\n",
       "      <th>delinq_2yrs</th>\n",
       "      <td>16</td>\n",
       "      <td>0.0</td>\n",
       "    </tr>\n",
       "    <tr>\n",
       "      <th>pub_rec</th>\n",
       "      <td>16</td>\n",
       "      <td>0.0</td>\n",
       "    </tr>\n",
       "    <tr>\n",
       "      <th>acc_now_delinq</th>\n",
       "      <td>16</td>\n",
       "      <td>0.0</td>\n",
       "    </tr>\n",
       "    <tr>\n",
       "      <th>annual_inc</th>\n",
       "      <td>3</td>\n",
       "      <td>0.0</td>\n",
       "    </tr>\n",
       "    <tr>\n",
       "      <th>collection_recovery_fee</th>\n",
       "      <td>0</td>\n",
       "      <td>0.0</td>\n",
       "    </tr>\n",
       "    <tr>\n",
       "      <th>mths_since_last_major_derog</th>\n",
       "      <td>0</td>\n",
       "      <td>0.0</td>\n",
       "    </tr>\n",
       "    <tr>\n",
       "      <th>recoveries</th>\n",
       "      <td>0</td>\n",
       "      <td>0.0</td>\n",
       "    </tr>\n",
       "    <tr>\n",
       "      <th>total_rec_late_fee</th>\n",
       "      <td>0</td>\n",
       "      <td>0.0</td>\n",
       "    </tr>\n",
       "    <tr>\n",
       "      <th>total_rec_int</th>\n",
       "      <td>0</td>\n",
       "      <td>0.0</td>\n",
       "    </tr>\n",
       "    <tr>\n",
       "      <th>application_type</th>\n",
       "      <td>0</td>\n",
       "      <td>0.0</td>\n",
       "    </tr>\n",
       "    <tr>\n",
       "      <th>initial_list_status</th>\n",
       "      <td>0</td>\n",
       "      <td>0.0</td>\n",
       "    </tr>\n",
       "    <tr>\n",
       "      <th>last_week_pay</th>\n",
       "      <td>0</td>\n",
       "      <td>0.0</td>\n",
       "    </tr>\n",
       "    <tr>\n",
       "      <th>loan_amnt</th>\n",
       "      <td>0</td>\n",
       "      <td>0.0</td>\n",
       "    </tr>\n",
       "    <tr>\n",
       "      <th>mths_since_last_delinq</th>\n",
       "      <td>0</td>\n",
       "      <td>0.0</td>\n",
       "    </tr>\n",
       "    <tr>\n",
       "      <th>revol_bal</th>\n",
       "      <td>0</td>\n",
       "      <td>0.0</td>\n",
       "    </tr>\n",
       "    <tr>\n",
       "      <th>mths_since_last_record</th>\n",
       "      <td>0</td>\n",
       "      <td>0.0</td>\n",
       "    </tr>\n",
       "    <tr>\n",
       "      <th>funded_amnt</th>\n",
       "      <td>0</td>\n",
       "      <td>0.0</td>\n",
       "    </tr>\n",
       "    <tr>\n",
       "      <th>dti</th>\n",
       "      <td>0</td>\n",
       "      <td>0.0</td>\n",
       "    </tr>\n",
       "    <tr>\n",
       "      <th>addr_state</th>\n",
       "      <td>0</td>\n",
       "      <td>0.0</td>\n",
       "    </tr>\n",
       "    <tr>\n",
       "      <th>zip_code</th>\n",
       "      <td>0</td>\n",
       "      <td>0.0</td>\n",
       "    </tr>\n",
       "    <tr>\n",
       "      <th>purpose</th>\n",
       "      <td>0</td>\n",
       "      <td>0.0</td>\n",
       "    </tr>\n",
       "    <tr>\n",
       "      <th>pymnt_plan</th>\n",
       "      <td>0</td>\n",
       "      <td>0.0</td>\n",
       "    </tr>\n",
       "    <tr>\n",
       "      <th>verification_status</th>\n",
       "      <td>0</td>\n",
       "      <td>0.0</td>\n",
       "    </tr>\n",
       "    <tr>\n",
       "      <th>home_ownership</th>\n",
       "      <td>0</td>\n",
       "      <td>0.0</td>\n",
       "    </tr>\n",
       "    <tr>\n",
       "      <th>sub_grade</th>\n",
       "      <td>0</td>\n",
       "      <td>0.0</td>\n",
       "    </tr>\n",
       "    <tr>\n",
       "      <th>grade</th>\n",
       "      <td>0</td>\n",
       "      <td>0.0</td>\n",
       "    </tr>\n",
       "    <tr>\n",
       "      <th>int_rate</th>\n",
       "      <td>0</td>\n",
       "      <td>0.0</td>\n",
       "    </tr>\n",
       "    <tr>\n",
       "      <th>term</th>\n",
       "      <td>0</td>\n",
       "      <td>0.0</td>\n",
       "    </tr>\n",
       "    <tr>\n",
       "      <th>funded_amnt_inv</th>\n",
       "      <td>0</td>\n",
       "      <td>0.0</td>\n",
       "    </tr>\n",
       "    <tr>\n",
       "      <th>loan_status</th>\n",
       "      <td>0</td>\n",
       "      <td>0.0</td>\n",
       "    </tr>\n",
       "  </tbody>\n",
       "</table>\n",
       "</div>"
      ],
      "text/plain": [
       "                             Null value count  %Null count\n",
       "batch_enrolled                          85149         16.0\n",
       "total_rev_hi_lim                        42004          8.0\n",
       "tot_cur_bal                             42004          8.0\n",
       "tot_coll_amt                            42004          8.0\n",
       "emp_length                              26891          5.0\n",
       "revol_util                                287          0.0\n",
       "collections_12_mths_ex_med                 95          0.0\n",
       "title                                      90          0.0\n",
       "open_acc                                   16          0.0\n",
       "total_acc                                  16          0.0\n",
       "inq_last_6mths                             16          0.0\n",
       "delinq_2yrs                                16          0.0\n",
       "pub_rec                                    16          0.0\n",
       "acc_now_delinq                             16          0.0\n",
       "annual_inc                                  3          0.0\n",
       "collection_recovery_fee                     0          0.0\n",
       "mths_since_last_major_derog                 0          0.0\n",
       "recoveries                                  0          0.0\n",
       "total_rec_late_fee                          0          0.0\n",
       "total_rec_int                               0          0.0\n",
       "application_type                            0          0.0\n",
       "initial_list_status                         0          0.0\n",
       "last_week_pay                               0          0.0\n",
       "loan_amnt                                   0          0.0\n",
       "mths_since_last_delinq                      0          0.0\n",
       "revol_bal                                   0          0.0\n",
       "mths_since_last_record                      0          0.0\n",
       "funded_amnt                                 0          0.0\n",
       "dti                                         0          0.0\n",
       "addr_state                                  0          0.0\n",
       "zip_code                                    0          0.0\n",
       "purpose                                     0          0.0\n",
       "pymnt_plan                                  0          0.0\n",
       "verification_status                         0          0.0\n",
       "home_ownership                              0          0.0\n",
       "sub_grade                                   0          0.0\n",
       "grade                                       0          0.0\n",
       "int_rate                                    0          0.0\n",
       "term                                        0          0.0\n",
       "funded_amnt_inv                             0          0.0\n",
       "loan_status                                 0          0.0"
      ]
     },
     "execution_count": 462,
     "metadata": {},
     "output_type": "execute_result"
    }
   ],
   "source": [
    "nulldata = pd.DataFrame(train.isna().sum(),columns =['Null value count'])\n",
    "nulldata['%Null count'] = np.round((nulldata['Null value count']/train.shape[0])*100,0)\n",
    "nulldata.sort_values(by=['Null value count'],ascending = False)"
   ]
  },
  {
   "cell_type": "code",
   "execution_count": 463,
   "id": "250154ba",
   "metadata": {},
   "outputs": [],
   "source": [
    "# Droping Null values\n",
    "\n",
    "# Since there is no any logical way to fill null values in remaining columns removing those records to get a clean dataset\n",
    "train = train.dropna(axis=0)\n",
    "\n",
    "#so now dataset dont have null values"
   ]
  },
  {
   "cell_type": "markdown",
   "id": "de06c3bd",
   "metadata": {},
   "source": [
    "## Encoding categorical variables"
   ]
  },
  {
   "cell_type": "markdown",
   "id": "db7bfeed",
   "metadata": {},
   "source": [
    "### Encoding ordinal variables"
   ]
  },
  {
   "cell_type": "code",
   "execution_count": 465,
   "id": "d1a4c1ce",
   "metadata": {},
   "outputs": [],
   "source": [
    "# Encoding 'term' variable"
   ]
  },
  {
   "cell_type": "code",
   "execution_count": 466,
   "id": "310af3ad",
   "metadata": {},
   "outputs": [],
   "source": [
    "le = preprocessing.LabelEncoder()"
   ]
  },
  {
   "cell_type": "code",
   "execution_count": 467,
   "id": "4e5ef69e",
   "metadata": {},
   "outputs": [],
   "source": [
    "le.fit(train['term'])\n",
    "train['term'] = le.transform(train['term'])"
   ]
  },
  {
   "cell_type": "code",
   "execution_count": 468,
   "id": "fca457ea",
   "metadata": {},
   "outputs": [
    {
     "data": {
      "text/plain": [
       "['36 months', '60 months']"
      ]
     },
     "execution_count": 468,
     "metadata": {},
     "output_type": "execute_result"
    }
   ],
   "source": [
    "list(le.classes_)"
   ]
  },
  {
   "cell_type": "code",
   "execution_count": 469,
   "id": "322ad0a1",
   "metadata": {},
   "outputs": [],
   "source": [
    "train['term'] = pd.Categorical(train['term'])"
   ]
  },
  {
   "cell_type": "code",
   "execution_count": null,
   "id": "d76483b5",
   "metadata": {},
   "outputs": [],
   "source": []
  },
  {
   "cell_type": "code",
   "execution_count": 470,
   "id": "8cdc5e39",
   "metadata": {},
   "outputs": [],
   "source": [
    "# Encoding 'grade' variable"
   ]
  },
  {
   "cell_type": "code",
   "execution_count": 471,
   "id": "eda1d9ed",
   "metadata": {},
   "outputs": [],
   "source": [
    "train['grade'] = le.fit_transform(train['grade'])"
   ]
  },
  {
   "cell_type": "code",
   "execution_count": 472,
   "id": "436bf32b",
   "metadata": {},
   "outputs": [
    {
     "data": {
      "text/plain": [
       "['A', 'B', 'C', 'D', 'E', 'F', 'G']"
      ]
     },
     "execution_count": 472,
     "metadata": {},
     "output_type": "execute_result"
    }
   ],
   "source": [
    "list(le.classes_)"
   ]
  },
  {
   "cell_type": "code",
   "execution_count": 473,
   "id": "212b61ba",
   "metadata": {},
   "outputs": [],
   "source": [
    "train['grade'] = pd.Categorical(train['grade'])"
   ]
  },
  {
   "cell_type": "code",
   "execution_count": null,
   "id": "d5639a3a",
   "metadata": {},
   "outputs": [],
   "source": []
  },
  {
   "cell_type": "code",
   "execution_count": null,
   "id": "10fadded",
   "metadata": {},
   "outputs": [],
   "source": []
  },
  {
   "cell_type": "code",
   "execution_count": 474,
   "id": "49dfa9f4",
   "metadata": {},
   "outputs": [],
   "source": [
    "# Encoding 'sub_grade' variable"
   ]
  },
  {
   "cell_type": "code",
   "execution_count": 475,
   "id": "efbf285d",
   "metadata": {},
   "outputs": [],
   "source": [
    "train['sub_grade'] = le.fit_transform(train['sub_grade'])"
   ]
  },
  {
   "cell_type": "code",
   "execution_count": 476,
   "id": "85be8acb",
   "metadata": {
    "scrolled": true
   },
   "outputs": [
    {
     "name": "stdout",
     "output_type": "stream",
     "text": [
      "['A1', 'A2', 'A3', 'A4', 'A5', 'B1', 'B2', 'B3', 'B4', 'B5', 'C1', 'C2', 'C3', 'C4', 'C5', 'D1', 'D2', 'D3', 'D4', 'D5', 'E1', 'E2', 'E3', 'E4', 'E5', 'F1', 'F2', 'F3', 'F4', 'F5', 'G1', 'G2', 'G3', 'G4', 'G5']\n"
     ]
    }
   ],
   "source": [
    "print(list(le.classes_))"
   ]
  },
  {
   "cell_type": "code",
   "execution_count": 477,
   "id": "af3ab300",
   "metadata": {},
   "outputs": [],
   "source": [
    "train['sub_grade'] = pd.Categorical(train['sub_grade'])"
   ]
  },
  {
   "cell_type": "code",
   "execution_count": null,
   "id": "29d10843",
   "metadata": {},
   "outputs": [],
   "source": []
  },
  {
   "cell_type": "code",
   "execution_count": 478,
   "id": "0be6861c",
   "metadata": {},
   "outputs": [],
   "source": [
    "# Encoding 'emp_length' variable"
   ]
  },
  {
   "cell_type": "code",
   "execution_count": 479,
   "id": "7b509f04",
   "metadata": {},
   "outputs": [
    {
     "data": {
      "text/plain": [
       "array(['9 years', '< 1 year', '2 years', '10+ years', '5 years',\n",
       "       '7 years', '4 years', '3 years', '6 years', '1 year', '8 years'],\n",
       "      dtype=object)"
      ]
     },
     "execution_count": 479,
     "metadata": {},
     "output_type": "execute_result"
    }
   ],
   "source": [
    "train['emp_length'].unique()"
   ]
  },
  {
   "cell_type": "code",
   "execution_count": 480,
   "id": "10d013a1",
   "metadata": {},
   "outputs": [],
   "source": [
    "dict1 = {'< 1 year': 0,\n",
    "         '1 year':1,\n",
    "         '2 years':2,\n",
    "         '3 years':3,\n",
    "         '4 years':4,\n",
    "         '5 years':5,\n",
    "         '6 years':6,\n",
    "         '7 years':7,\n",
    "         '8 years':8,\n",
    "         '9 years':9,\n",
    "         '10+ years':10             \n",
    "}"
   ]
  },
  {
   "cell_type": "code",
   "execution_count": 481,
   "id": "5905fea1",
   "metadata": {},
   "outputs": [],
   "source": [
    "train['emp_length'] = train['emp_length'].replace(dict1)"
   ]
  },
  {
   "cell_type": "code",
   "execution_count": 482,
   "id": "5257684f",
   "metadata": {},
   "outputs": [],
   "source": [
    "train['emp_length'] = pd.Categorical(train['emp_length'])"
   ]
  },
  {
   "cell_type": "code",
   "execution_count": null,
   "id": "dc532ec4",
   "metadata": {},
   "outputs": [],
   "source": []
  },
  {
   "cell_type": "code",
   "execution_count": 483,
   "id": "141a4358",
   "metadata": {},
   "outputs": [],
   "source": [
    "#'last_week_pay' column"
   ]
  },
  {
   "cell_type": "code",
   "execution_count": 484,
   "id": "d6570f9a",
   "metadata": {},
   "outputs": [],
   "source": [
    "train['last_week_pay'] = train['last_week_pay'].str.replace('th week','')"
   ]
  },
  {
   "cell_type": "code",
   "execution_count": 485,
   "id": "2b872c59",
   "metadata": {},
   "outputs": [
    {
     "data": {
      "text/plain": [
       "13     23672\n",
       "9      22370\n",
       "26     21467\n",
       "4      20139\n",
       "22     20103\n",
       "35     18661\n",
       "39     18466\n",
       "17     17188\n",
       "31     16880\n",
       "52     14945\n",
       "65     14688\n",
       "48     14596\n",
       "61     13808\n",
       "78     10837\n",
       "74     10092\n",
       "87      8403\n",
       "NA      8171\n",
       "91      8043\n",
       "44      8035\n",
       "83      7314\n",
       "70      7213\n",
       "43      6150\n",
       "100     5978\n",
       "57      5864\n",
       "109     5680\n",
       "104     5482\n",
       "96      4765\n",
       "117     4629\n",
       "113     4591\n",
       "156     3996\n",
       "56      3911\n",
       "122     3781\n",
       "126     3731\n",
       "135     2942\n",
       "131     2551\n",
       "30      2475\n",
       "139     2440\n",
       "95      2112\n",
       "148     1962\n",
       "144     1763\n",
       "152     1690\n",
       "82      1477\n",
       "18      1197\n",
       "130     1085\n",
       "161      955\n",
       "69       952\n",
       "0        666\n",
       "8        473\n",
       "143      380\n",
       "21       325\n",
       "165      265\n",
       "121      223\n",
       "170      162\n",
       "174      155\n",
       "92       124\n",
       "108       90\n",
       "169       57\n",
       "178       23\n",
       "Name: last_week_pay, dtype: int64"
      ]
     },
     "execution_count": 485,
     "metadata": {},
     "output_type": "execute_result"
    }
   ],
   "source": [
    "train['last_week_pay'].value_counts()"
   ]
  },
  {
   "cell_type": "code",
   "execution_count": 486,
   "id": "df1243c8",
   "metadata": {},
   "outputs": [],
   "source": [
    "train['last_week_pay'] = train['last_week_pay'].replace('NA',-1)"
   ]
  },
  {
   "cell_type": "code",
   "execution_count": 487,
   "id": "e629209c",
   "metadata": {},
   "outputs": [],
   "source": [
    "train['last_week_pay'] = train['last_week_pay'].astype(int)"
   ]
  },
  {
   "cell_type": "code",
   "execution_count": null,
   "id": "2e49b67a",
   "metadata": {},
   "outputs": [],
   "source": []
  },
  {
   "cell_type": "markdown",
   "id": "8946d0b0",
   "metadata": {},
   "source": [
    "### Encoding Categorical nominal variables"
   ]
  },
  {
   "cell_type": "code",
   "execution_count": 488,
   "id": "36ec1385",
   "metadata": {},
   "outputs": [],
   "source": [
    "# 'home_ownership' column"
   ]
  },
  {
   "cell_type": "code",
   "execution_count": 489,
   "id": "61136a8e",
   "metadata": {},
   "outputs": [
    {
     "data": {
      "text/plain": [
       "array(['OWN', 'MORTGAGE', 'RENT', 'OTHER', 'NONE', 'ANY'], dtype=object)"
      ]
     },
     "execution_count": 489,
     "metadata": {},
     "output_type": "execute_result"
    }
   ],
   "source": [
    "train['home_ownership'].unique()"
   ]
  },
  {
   "cell_type": "code",
   "execution_count": 490,
   "id": "53ca1e31",
   "metadata": {},
   "outputs": [],
   "source": [
    "encoded_df_home_ownership = pd.get_dummies(train['home_ownership'], prefix='home_ownership')"
   ]
  },
  {
   "cell_type": "code",
   "execution_count": 491,
   "id": "8bec85e7",
   "metadata": {},
   "outputs": [],
   "source": [
    "train = train.drop('home_ownership',axis =1)"
   ]
  },
  {
   "cell_type": "code",
   "execution_count": null,
   "id": "cadd6ad8",
   "metadata": {},
   "outputs": [],
   "source": []
  },
  {
   "cell_type": "code",
   "execution_count": 492,
   "id": "969f2dd4",
   "metadata": {},
   "outputs": [],
   "source": [
    "# 'verification_status' column"
   ]
  },
  {
   "cell_type": "code",
   "execution_count": 493,
   "id": "1eb0e358",
   "metadata": {},
   "outputs": [
    {
     "data": {
      "text/plain": [
       "array(['Source Verified', 'Not Verified', 'Verified'], dtype=object)"
      ]
     },
     "execution_count": 493,
     "metadata": {},
     "output_type": "execute_result"
    }
   ],
   "source": [
    "train['verification_status'].unique()"
   ]
  },
  {
   "cell_type": "code",
   "execution_count": 494,
   "id": "581dcd7c",
   "metadata": {},
   "outputs": [],
   "source": [
    "encoded_df_verification_status = pd.get_dummies(train['verification_status'], prefix='verification_status')"
   ]
  },
  {
   "cell_type": "code",
   "execution_count": 495,
   "id": "37ad7587",
   "metadata": {},
   "outputs": [],
   "source": [
    "encoded_df = pd.concat([encoded_df_home_ownership, encoded_df_verification_status], axis=1)"
   ]
  },
  {
   "cell_type": "code",
   "execution_count": 496,
   "id": "17ed5669",
   "metadata": {},
   "outputs": [],
   "source": [
    "train = train.drop('verification_status',axis =1)"
   ]
  },
  {
   "cell_type": "code",
   "execution_count": null,
   "id": "b6b6a000",
   "metadata": {},
   "outputs": [],
   "source": []
  },
  {
   "cell_type": "code",
   "execution_count": 497,
   "id": "93fed450",
   "metadata": {},
   "outputs": [],
   "source": [
    "# 'pymnt_plan' column"
   ]
  },
  {
   "cell_type": "code",
   "execution_count": 498,
   "id": "f1659e7a",
   "metadata": {},
   "outputs": [
    {
     "data": {
      "text/plain": [
       "n    390189\n",
       "y         4\n",
       "Name: pymnt_plan, dtype: int64"
      ]
     },
     "execution_count": 498,
     "metadata": {},
     "output_type": "execute_result"
    }
   ],
   "source": [
    "train['pymnt_plan'].value_counts()"
   ]
  },
  {
   "cell_type": "code",
   "execution_count": 499,
   "id": "e1380234",
   "metadata": {},
   "outputs": [],
   "source": [
    "train = train.drop('pymnt_plan',axis = 1)"
   ]
  },
  {
   "cell_type": "code",
   "execution_count": null,
   "id": "b3f11b43",
   "metadata": {},
   "outputs": [],
   "source": []
  },
  {
   "cell_type": "code",
   "execution_count": 500,
   "id": "4998e3b9",
   "metadata": {},
   "outputs": [],
   "source": [
    "# 'purpose' column"
   ]
  },
  {
   "cell_type": "code",
   "execution_count": 501,
   "id": "81aa26aa",
   "metadata": {},
   "outputs": [
    {
     "data": {
      "text/plain": [
       "array(['debt_consolidation', 'home_improvement', 'credit_card', 'other',\n",
       "       'major_purchase', 'car', 'moving', 'small_business', 'medical',\n",
       "       'vacation', 'wedding', 'renewable_energy', 'house'], dtype=object)"
      ]
     },
     "execution_count": 501,
     "metadata": {},
     "output_type": "execute_result"
    }
   ],
   "source": [
    "train['purpose'].unique()"
   ]
  },
  {
   "cell_type": "code",
   "execution_count": 502,
   "id": "31b1e5f3",
   "metadata": {},
   "outputs": [],
   "source": [
    "encoded_df_purpose = pd.get_dummies(train['purpose'], prefix='purpose')"
   ]
  },
  {
   "cell_type": "code",
   "execution_count": 503,
   "id": "51a9a1cd",
   "metadata": {},
   "outputs": [],
   "source": [
    "encoded_df = pd.concat([encoded_df, encoded_df_purpose], axis=1)"
   ]
  },
  {
   "cell_type": "code",
   "execution_count": 504,
   "id": "08f39d59",
   "metadata": {},
   "outputs": [],
   "source": [
    "train = train.drop('purpose',axis =1)"
   ]
  },
  {
   "cell_type": "code",
   "execution_count": null,
   "id": "fef7c0ac",
   "metadata": {},
   "outputs": [],
   "source": []
  },
  {
   "cell_type": "code",
   "execution_count": 505,
   "id": "223ecb4f",
   "metadata": {},
   "outputs": [],
   "source": [
    "# initial_list_status"
   ]
  },
  {
   "cell_type": "code",
   "execution_count": 506,
   "id": "4be75e54",
   "metadata": {},
   "outputs": [
    {
     "data": {
      "text/plain": [
       "w    205731\n",
       "f    184462\n",
       "Name: initial_list_status, dtype: int64"
      ]
     },
     "execution_count": 506,
     "metadata": {},
     "output_type": "execute_result"
    }
   ],
   "source": [
    "train['initial_list_status'].value_counts()"
   ]
  },
  {
   "cell_type": "code",
   "execution_count": 507,
   "id": "3ed76e85",
   "metadata": {},
   "outputs": [],
   "source": [
    "encoded_df_initial_list_status = pd.get_dummies(train['initial_list_status'], prefix='initial_list_status')"
   ]
  },
  {
   "cell_type": "code",
   "execution_count": 508,
   "id": "195113bc",
   "metadata": {},
   "outputs": [],
   "source": [
    "encoded_df = pd.concat([encoded_df, encoded_df_initial_list_status], axis=1)"
   ]
  },
  {
   "cell_type": "code",
   "execution_count": 509,
   "id": "1352f595",
   "metadata": {},
   "outputs": [],
   "source": [
    "train = train.drop('initial_list_status',axis =1)"
   ]
  },
  {
   "cell_type": "code",
   "execution_count": null,
   "id": "305e1f6a",
   "metadata": {},
   "outputs": [],
   "source": []
  },
  {
   "cell_type": "code",
   "execution_count": 510,
   "id": "88d6752c",
   "metadata": {},
   "outputs": [],
   "source": [
    "# 'application_type' column"
   ]
  },
  {
   "cell_type": "code",
   "execution_count": 511,
   "id": "d0360023",
   "metadata": {},
   "outputs": [
    {
     "data": {
      "text/plain": [
       "INDIVIDUAL    389975\n",
       "JOINT            218\n",
       "Name: application_type, dtype: int64"
      ]
     },
     "execution_count": 511,
     "metadata": {},
     "output_type": "execute_result"
    }
   ],
   "source": [
    "train['application_type'].value_counts()"
   ]
  },
  {
   "cell_type": "code",
   "execution_count": 512,
   "id": "14bb93e2",
   "metadata": {},
   "outputs": [],
   "source": [
    "train = train.drop('application_type',axis=1)"
   ]
  },
  {
   "cell_type": "code",
   "execution_count": null,
   "id": "13897d72",
   "metadata": {},
   "outputs": [],
   "source": []
  },
  {
   "cell_type": "code",
   "execution_count": 513,
   "id": "4731e0e6",
   "metadata": {},
   "outputs": [],
   "source": [
    "# 'zip_code' column"
   ]
  },
  {
   "cell_type": "code",
   "execution_count": 514,
   "id": "7a27a02d",
   "metadata": {},
   "outputs": [],
   "source": [
    "train['zip_code'] = train['zip_code'].str.replace('xx','')"
   ]
  },
  {
   "cell_type": "code",
   "execution_count": null,
   "id": "c4100b2b",
   "metadata": {},
   "outputs": [],
   "source": []
  },
  {
   "cell_type": "code",
   "execution_count": 515,
   "id": "30142a66",
   "metadata": {},
   "outputs": [],
   "source": [
    "train = train.drop('addr_state',axis=1)"
   ]
  },
  {
   "cell_type": "code",
   "execution_count": 516,
   "id": "0e16919a",
   "metadata": {
    "scrolled": true
   },
   "outputs": [
    {
     "data": {
      "text/plain": [
       "0                   \n",
       "1         BAT1586599\n",
       "2         BAT1586599\n",
       "3         BAT4808022\n",
       "4         BAT2833642\n",
       "             ...    \n",
       "532421    BAT2078974\n",
       "532423              \n",
       "532424    BAT2003848\n",
       "532426    BAT3193689\n",
       "532427    BAT4136152\n",
       "Name: batch_enrolled, Length: 390193, dtype: object"
      ]
     },
     "execution_count": 516,
     "metadata": {},
     "output_type": "execute_result"
    }
   ],
   "source": [
    "train['batch_enrolled']"
   ]
  },
  {
   "cell_type": "code",
   "execution_count": 517,
   "id": "7cadd15a",
   "metadata": {},
   "outputs": [],
   "source": [
    "# 'batch_enrolled' column\n",
    "train['batch_enrolled'] = train['batch_enrolled'].str.replace('BAT','')\n",
    "train['batch_enrolled'] = train['batch_enrolled'].str.replace(' ','0')\n",
    "\n",
    "#train['batch_enrolled'] = train['batch_enrolled'].astype('float')\n",
    "#train = train.drop('batch_enrolled',axis=1)"
   ]
  },
  {
   "cell_type": "code",
   "execution_count": null,
   "id": "3fffaa7d",
   "metadata": {},
   "outputs": [],
   "source": []
  },
  {
   "cell_type": "code",
   "execution_count": 518,
   "id": "5784e8ad",
   "metadata": {},
   "outputs": [],
   "source": [
    "# 'title' column"
   ]
  },
  {
   "cell_type": "code",
   "execution_count": 519,
   "id": "09eb3361",
   "metadata": {},
   "outputs": [
    {
     "data": {
      "text/plain": [
       "Debt consolidation         197533\n",
       "Credit card refinancing     77915\n",
       "Home improvement            18662\n",
       "Other                       14723\n",
       "Debt Consolidation           5907\n",
       "                            ...  \n",
       "creditcardhelp                  1\n",
       "Round 1                         1\n",
       "quickpayoff                     1\n",
       "Hard times                      1\n",
       "billspayoff                     1\n",
       "Name: title, Length: 20370, dtype: int64"
      ]
     },
     "execution_count": 519,
     "metadata": {},
     "output_type": "execute_result"
    }
   ],
   "source": [
    "train['title'].value_counts()"
   ]
  },
  {
   "cell_type": "code",
   "execution_count": 520,
   "id": "fc2b8185",
   "metadata": {},
   "outputs": [],
   "source": [
    "train = train.drop('title',axis=1)"
   ]
  },
  {
   "cell_type": "code",
   "execution_count": null,
   "id": "427bbed6",
   "metadata": {},
   "outputs": [],
   "source": []
  },
  {
   "cell_type": "code",
   "execution_count": 521,
   "id": "e5f5f278",
   "metadata": {},
   "outputs": [],
   "source": [
    "train['loan_status'] = pd.Categorical(train['loan_status'])"
   ]
  },
  {
   "cell_type": "code",
   "execution_count": 522,
   "id": "302df047",
   "metadata": {},
   "outputs": [],
   "source": [
    "#train.columns\n",
    "#batch_enrolled\n",
    "#grade\n",
    "#zip_code\n",
    "#pub_rec\n",
    "#home_ownership\n",
    "#verification_status\n",
    "#purpose\n",
    "#initial_list_statu"
   ]
  },
  {
   "cell_type": "code",
   "execution_count": null,
   "id": "2179521b",
   "metadata": {},
   "outputs": [],
   "source": []
  },
  {
   "cell_type": "markdown",
   "id": "70cea46c",
   "metadata": {},
   "source": [
    "### EDA"
   ]
  },
  {
   "cell_type": "code",
   "execution_count": 523,
   "id": "fac62aa0",
   "metadata": {},
   "outputs": [
    {
     "data": {
      "text/plain": [
       "0.19132583106308929"
      ]
     },
     "execution_count": 523,
     "metadata": {},
     "output_type": "execute_result"
    }
   ],
   "source": [
    "# Value counts percentage in 'loan_status'\n",
    "# clearly see that classes are not balanced\n",
    "train['loan_status'].value_counts()[1]/train['loan_status'].value_counts().sum()"
   ]
  },
  {
   "cell_type": "code",
   "execution_count": 524,
   "id": "a3d638f9",
   "metadata": {},
   "outputs": [],
   "source": [
    "loan_data = pd.DataFrame(train['loan_status'].value_counts().reset_index())\n",
    "loan_data['index'] = loan_data['index'].astype('string')\n",
    "loan_data['index'] = loan_data['index'].replace('0','Not defaulted')\n",
    "loan_data['index'] = loan_data['index'].replace('1','defaulted')\n",
    "loan_data['index'] = pd.Categorical(loan_data['index'])\n",
    "loan_data = loan_data.rename(columns={'index': 'label','loan_status':'value_counts'})\n",
    "loan_data['percentage of total records'] = np.round((loan_data['value_counts']/loan_data['value_counts'].sum())*100,0)"
   ]
  },
  {
   "cell_type": "code",
   "execution_count": 525,
   "id": "8006f0b6",
   "metadata": {},
   "outputs": [
    {
     "data": {
      "text/html": [
       "<div>\n",
       "<style scoped>\n",
       "    .dataframe tbody tr th:only-of-type {\n",
       "        vertical-align: middle;\n",
       "    }\n",
       "\n",
       "    .dataframe tbody tr th {\n",
       "        vertical-align: top;\n",
       "    }\n",
       "\n",
       "    .dataframe thead th {\n",
       "        text-align: right;\n",
       "    }\n",
       "</style>\n",
       "<table border=\"1\" class=\"dataframe\">\n",
       "  <thead>\n",
       "    <tr style=\"text-align: right;\">\n",
       "      <th></th>\n",
       "      <th>label</th>\n",
       "      <th>value_counts</th>\n",
       "      <th>percentage of total records</th>\n",
       "    </tr>\n",
       "  </thead>\n",
       "  <tbody>\n",
       "    <tr>\n",
       "      <th>0</th>\n",
       "      <td>Not defaulted</td>\n",
       "      <td>315539</td>\n",
       "      <td>81.0</td>\n",
       "    </tr>\n",
       "    <tr>\n",
       "      <th>1</th>\n",
       "      <td>defaulted</td>\n",
       "      <td>74654</td>\n",
       "      <td>19.0</td>\n",
       "    </tr>\n",
       "  </tbody>\n",
       "</table>\n",
       "</div>"
      ],
      "text/plain": [
       "           label  value_counts  percentage of total records\n",
       "0  Not defaulted        315539                         81.0\n",
       "1      defaulted         74654                         19.0"
      ]
     },
     "execution_count": 525,
     "metadata": {},
     "output_type": "execute_result"
    }
   ],
   "source": [
    "loan_data.head()"
   ]
  },
  {
   "cell_type": "code",
   "execution_count": 526,
   "id": "f09fb07b",
   "metadata": {},
   "outputs": [
    {
     "data": {
      "image/png": "[encoded data removed]",
      "text/plain": [
       "<Figure size 640x480 with 1 Axes>"
      ]
     },
     "metadata": {},
     "output_type": "display_data"
    }
   ],
   "source": [
    "ax = sns.barplot(x=loan_data['label'],y=loan_data['percentage of total records'])\n",
    "for i, v in enumerate(loan_data['percentage of total records']):\n",
    "    ax.text(i, v, str(v), ha='center', va='bottom', fontweight='bold')\n",
    "ax.set_xlabel('')\n",
    "fig_num = 2\n",
    "ax.text(0.5, -0.12, f'Figure {fig_num}: classes in Target variable', transform=ax.transAxes, fontsize=12, ha='center')\n",
    "plt.show()"
   ]
  },
  {
   "cell_type": "code",
   "execution_count": null,
   "id": "688439bc",
   "metadata": {},
   "outputs": [],
   "source": []
  },
  {
   "cell_type": "code",
   "execution_count": null,
   "id": "7e839dea",
   "metadata": {},
   "outputs": [],
   "source": []
  },
  {
   "cell_type": "code",
   "execution_count": null,
   "id": "b23c3377",
   "metadata": {},
   "outputs": [],
   "source": []
  },
  {
   "cell_type": "markdown",
   "id": "b1e2ac39",
   "metadata": {},
   "source": [
    "### Feature Engineering\n"
   ]
  },
  {
   "cell_type": "code",
   "execution_count": 527,
   "id": "a114e4d4",
   "metadata": {},
   "outputs": [],
   "source": [
    "# How big the loan a person has taken with respect to his earnings, annual income to loan amount ratio\n",
    "train['loan_to_income'] = train['annual_inc']/train['funded_amnt_inv']"
   ]
  },
  {
   "cell_type": "code",
   "execution_count": 528,
   "id": "1f6d3770",
   "metadata": {},
   "outputs": [],
   "source": [
    "# This column gives a magnitude of how much the repayment has gone off course \n",
    "# in terms of ratios.\n",
    "\n",
    "train['bad_state'] = train['acc_now_delinq'] + (train['total_rec_late_fee']/train['funded_amnt_inv']) + (train['recoveries']/train['funded_amnt_inv']) + (train['collection_recovery_fee']/train['funded_amnt_inv']) + (train['collections_12_mths_ex_med']/train['funded_amnt_inv'])"
   ]
  },
  {
   "cell_type": "code",
   "execution_count": 529,
   "id": "72d1ee6a",
   "metadata": {},
   "outputs": [],
   "source": [
    "# Total number of available/unused 'credit lines'\n",
    "train['avl_lines'] = train['total_acc'] - train['open_acc']"
   ]
  },
  {
   "cell_type": "code",
   "execution_count": 530,
   "id": "057a7187",
   "metadata": {},
   "outputs": [],
   "source": [
    "# Interest paid so far\n",
    "train['int_paid'] = train['total_rec_int'] + train['total_rec_late_fee']"
   ]
  },
  {
   "cell_type": "code",
   "execution_count": null,
   "id": "8f224118",
   "metadata": {},
   "outputs": [],
   "source": []
  },
  {
   "cell_type": "markdown",
   "id": "4c913064",
   "metadata": {},
   "source": [
    "### Scaling Dataset"
   ]
  },
  {
   "cell_type": "code",
   "execution_count": 531,
   "id": "abda1303",
   "metadata": {},
   "outputs": [],
   "source": [
    "# Here only normalizing metric continuous, metric discrete, categorical ordinal varibles"
   ]
  },
  {
   "cell_type": "code",
   "execution_count": 532,
   "id": "9be53bf6",
   "metadata": {},
   "outputs": [],
   "source": [
    "#encoded_df = pd.concat([encoded_df,train['loan_status']],axis =1)"
   ]
  },
  {
   "cell_type": "code",
   "execution_count": 533,
   "id": "d117dada",
   "metadata": {},
   "outputs": [],
   "source": [
    "#train = train.drop('loan_status',axis=1)"
   ]
  },
  {
   "cell_type": "code",
   "execution_count": 534,
   "id": "87c8ad43",
   "metadata": {},
   "outputs": [],
   "source": [
    "#scaler = Normalizer()"
   ]
  },
  {
   "cell_type": "code",
   "execution_count": 535,
   "id": "4e7764f7",
   "metadata": {},
   "outputs": [],
   "source": [
    "#train = pd.DataFrame(scaler.fit_transform(train),columns=train.columns)"
   ]
  },
  {
   "cell_type": "code",
   "execution_count": 536,
   "id": "fa818031",
   "metadata": {},
   "outputs": [],
   "source": [
    "#train = train.reset_index()"
   ]
  },
  {
   "cell_type": "code",
   "execution_count": 537,
   "id": "4f793978",
   "metadata": {},
   "outputs": [],
   "source": [
    "#train_without_encoded_var = train.drop('index',axis =1)"
   ]
  },
  {
   "cell_type": "code",
   "execution_count": 538,
   "id": "adaa61a7",
   "metadata": {},
   "outputs": [],
   "source": [
    "#encoded_df = encoded_df.reset_index()"
   ]
  },
  {
   "cell_type": "code",
   "execution_count": 539,
   "id": "a659f818",
   "metadata": {},
   "outputs": [],
   "source": [
    "#encoded_df = encoded_df.drop('index',axis =1)"
   ]
  },
  {
   "cell_type": "code",
   "execution_count": 540,
   "id": "601fd11f",
   "metadata": {},
   "outputs": [],
   "source": [
    "#train = pd.concat([train_without_encoded_var,encoded_df],axis =1)"
   ]
  },
  {
   "cell_type": "code",
   "execution_count": null,
   "id": "619e8861",
   "metadata": {},
   "outputs": [],
   "source": []
  },
  {
   "cell_type": "code",
   "execution_count": 541,
   "id": "ab399f37",
   "metadata": {
    "scrolled": true
   },
   "outputs": [],
   "source": [
    "#train_without_encoded_var.corr()[train_without_encoded_var.corr() > 0.5]\n",
    "#train_without_encoded_var.corr()"
   ]
  },
  {
   "cell_type": "code",
   "execution_count": 542,
   "id": "1f0e15ba",
   "metadata": {},
   "outputs": [],
   "source": [
    "#sns.heatmap(train_without_encoded_var.corr())"
   ]
  },
  {
   "cell_type": "code",
   "execution_count": 543,
   "id": "dd94924b",
   "metadata": {},
   "outputs": [],
   "source": [
    "# train = train.drop(['funded_amnt','funded_amnt_inv'],axis =1)"
   ]
  },
  {
   "cell_type": "markdown",
   "id": "30eb7df1",
   "metadata": {},
   "source": [
    "#### Using standardization"
   ]
  },
  {
   "cell_type": "code",
   "execution_count": 544,
   "id": "7436f821",
   "metadata": {},
   "outputs": [],
   "source": [
    "encoded_df = pd.concat([encoded_df,train['loan_status']],axis =1)"
   ]
  },
  {
   "cell_type": "code",
   "execution_count": 545,
   "id": "9a8fe437",
   "metadata": {},
   "outputs": [],
   "source": [
    "train = train.drop('loan_status',axis=1)"
   ]
  },
  {
   "cell_type": "code",
   "execution_count": 546,
   "id": "cf94b26d",
   "metadata": {},
   "outputs": [],
   "source": [
    "scaler = StandardScaler()"
   ]
  },
  {
   "cell_type": "code",
   "execution_count": 547,
   "id": "8e5e8502",
   "metadata": {},
   "outputs": [
    {
     "data": {
      "text/plain": [
       "StandardScaler()"
      ]
     },
     "execution_count": 547,
     "metadata": {},
     "output_type": "execute_result"
    }
   ],
   "source": [
    "scaler.fit(train)"
   ]
  },
  {
   "cell_type": "code",
   "execution_count": 548,
   "id": "52d3e484",
   "metadata": {},
   "outputs": [],
   "source": [
    "train = pd.DataFrame(scaler.transform(train),columns=train.columns)"
   ]
  },
  {
   "cell_type": "code",
   "execution_count": 549,
   "id": "d36dbc54",
   "metadata": {},
   "outputs": [],
   "source": [
    "train = train.reset_index()"
   ]
  },
  {
   "cell_type": "code",
   "execution_count": 550,
   "id": "519f8a77",
   "metadata": {},
   "outputs": [],
   "source": [
    "train_without_encoded_var = train.drop('index',axis =1)"
   ]
  },
  {
   "cell_type": "code",
   "execution_count": 551,
   "id": "ec0dcba3",
   "metadata": {},
   "outputs": [],
   "source": [
    "encoded_df = encoded_df.reset_index()"
   ]
  },
  {
   "cell_type": "code",
   "execution_count": 552,
   "id": "6958f27c",
   "metadata": {},
   "outputs": [],
   "source": [
    "encoded_df = encoded_df.drop('index',axis =1)"
   ]
  },
  {
   "cell_type": "code",
   "execution_count": 553,
   "id": "ffbf99b1",
   "metadata": {},
   "outputs": [],
   "source": [
    "train = pd.concat([train_without_encoded_var,encoded_df],axis =1)"
   ]
  },
  {
   "cell_type": "code",
   "execution_count": 554,
   "id": "a4004787",
   "metadata": {
    "scrolled": false
   },
   "outputs": [
    {
     "data": {
      "text/html": [
       "<div>\n",
       "<style scoped>\n",
       "    .dataframe tbody tr th:only-of-type {\n",
       "        vertical-align: middle;\n",
       "    }\n",
       "\n",
       "    .dataframe tbody tr th {\n",
       "        vertical-align: top;\n",
       "    }\n",
       "\n",
       "    .dataframe thead th {\n",
       "        text-align: right;\n",
       "    }\n",
       "</style>\n",
       "<table border=\"1\" class=\"dataframe\">\n",
       "  <thead>\n",
       "    <tr style=\"text-align: right;\">\n",
       "      <th></th>\n",
       "      <th>loan_amnt</th>\n",
       "      <th>funded_amnt</th>\n",
       "      <th>funded_amnt_inv</th>\n",
       "      <th>term</th>\n",
       "      <th>batch_enrolled</th>\n",
       "      <th>int_rate</th>\n",
       "      <th>grade</th>\n",
       "      <th>sub_grade</th>\n",
       "      <th>emp_length</th>\n",
       "      <th>annual_inc</th>\n",
       "      <th>...</th>\n",
       "      <th>purpose_medical</th>\n",
       "      <th>purpose_moving</th>\n",
       "      <th>purpose_other</th>\n",
       "      <th>purpose_renewable_energy</th>\n",
       "      <th>purpose_small_business</th>\n",
       "      <th>purpose_vacation</th>\n",
       "      <th>purpose_wedding</th>\n",
       "      <th>initial_list_status_f</th>\n",
       "      <th>initial_list_status_w</th>\n",
       "      <th>loan_status</th>\n",
       "    </tr>\n",
       "  </thead>\n",
       "  <tbody>\n",
       "    <tr>\n",
       "      <th>0</th>\n",
       "      <td>-0.096632</td>\n",
       "      <td>-0.096628</td>\n",
       "      <td>-0.095911</td>\n",
       "      <td>-0.673612</td>\n",
       "      <td>-1.287735</td>\n",
       "      <td>1.335817</td>\n",
       "      <td>1.676222</td>\n",
       "      <td>1.698973</td>\n",
       "      <td>0.796461</td>\n",
       "      <td>-0.726622</td>\n",
       "      <td>...</td>\n",
       "      <td>0</td>\n",
       "      <td>0</td>\n",
       "      <td>0</td>\n",
       "      <td>0</td>\n",
       "      <td>0</td>\n",
       "      <td>0</td>\n",
       "      <td>0</td>\n",
       "      <td>1</td>\n",
       "      <td>0</td>\n",
       "      <td>0</td>\n",
       "    </tr>\n",
       "    <tr>\n",
       "      <th>1</th>\n",
       "      <td>-1.226192</td>\n",
       "      <td>-1.226194</td>\n",
       "      <td>-1.225927</td>\n",
       "      <td>-0.673612</td>\n",
       "      <td>-0.421408</td>\n",
       "      <td>-0.522392</td>\n",
       "      <td>-0.620254</td>\n",
       "      <td>-0.467006</td>\n",
       "      <td>-1.659457</td>\n",
       "      <td>-0.179470</td>\n",
       "      <td>...</td>\n",
       "      <td>0</td>\n",
       "      <td>0</td>\n",
       "      <td>0</td>\n",
       "      <td>0</td>\n",
       "      <td>0</td>\n",
       "      <td>0</td>\n",
       "      <td>0</td>\n",
       "      <td>0</td>\n",
       "      <td>1</td>\n",
       "      <td>0</td>\n",
       "    </tr>\n",
       "    <tr>\n",
       "      <th>2</th>\n",
       "      <td>-0.611144</td>\n",
       "      <td>-0.611142</td>\n",
       "      <td>-0.610630</td>\n",
       "      <td>-0.673612</td>\n",
       "      <td>-0.421408</td>\n",
       "      <td>-1.367651</td>\n",
       "      <td>-1.385745</td>\n",
       "      <td>-1.240570</td>\n",
       "      <td>-1.113698</td>\n",
       "      <td>-0.480931</td>\n",
       "      <td>...</td>\n",
       "      <td>0</td>\n",
       "      <td>0</td>\n",
       "      <td>0</td>\n",
       "      <td>0</td>\n",
       "      <td>0</td>\n",
       "      <td>0</td>\n",
       "      <td>0</td>\n",
       "      <td>0</td>\n",
       "      <td>1</td>\n",
       "      <td>0</td>\n",
       "    </tr>\n",
       "    <tr>\n",
       "      <th>3</th>\n",
       "      <td>-0.019751</td>\n",
       "      <td>-0.019747</td>\n",
       "      <td>-0.018999</td>\n",
       "      <td>-0.673612</td>\n",
       "      <td>1.337577</td>\n",
       "      <td>1.455921</td>\n",
       "      <td>0.910730</td>\n",
       "      <td>1.234835</td>\n",
       "      <td>1.069341</td>\n",
       "      <td>0.423453</td>\n",
       "      <td>...</td>\n",
       "      <td>0</td>\n",
       "      <td>0</td>\n",
       "      <td>0</td>\n",
       "      <td>0</td>\n",
       "      <td>0</td>\n",
       "      <td>0</td>\n",
       "      <td>0</td>\n",
       "      <td>1</td>\n",
       "      <td>0</td>\n",
       "      <td>0</td>\n",
       "    </tr>\n",
       "    <tr>\n",
       "      <th>4</th>\n",
       "      <td>0.098527</td>\n",
       "      <td>0.098533</td>\n",
       "      <td>0.099328</td>\n",
       "      <td>-0.673612</td>\n",
       "      <td>0.259512</td>\n",
       "      <td>-0.601706</td>\n",
       "      <td>-0.620254</td>\n",
       "      <td>-0.776432</td>\n",
       "      <td>1.069341</td>\n",
       "      <td>-0.375420</td>\n",
       "      <td>...</td>\n",
       "      <td>0</td>\n",
       "      <td>0</td>\n",
       "      <td>0</td>\n",
       "      <td>0</td>\n",
       "      <td>0</td>\n",
       "      <td>0</td>\n",
       "      <td>0</td>\n",
       "      <td>0</td>\n",
       "      <td>1</td>\n",
       "      <td>0</td>\n",
       "    </tr>\n",
       "  </tbody>\n",
       "</table>\n",
       "<p>5 rows × 61 columns</p>\n",
       "</div>"
      ],
      "text/plain": [
       "   loan_amnt  funded_amnt  funded_amnt_inv      term  batch_enrolled  \\\n",
       "0  -0.096632    -0.096628        -0.095911 -0.673612       -1.287735   \n",
       "1  -1.226192    -1.226194        -1.225927 -0.673612       -0.421408   \n",
       "2  -0.611144    -0.611142        -0.610630 -0.673612       -0.421408   \n",
       "3  -0.019751    -0.019747        -0.018999 -0.673612        1.337577   \n",
       "4   0.098527     0.098533         0.099328 -0.673612        0.259512   \n",
       "\n",
       "   int_rate     grade  sub_grade  emp_length  annual_inc  ...  \\\n",
       "0  1.335817  1.676222   1.698973    0.796461   -0.726622  ...   \n",
       "1 -0.522392 -0.620254  -0.467006   -1.659457   -0.179470  ...   \n",
       "2 -1.367651 -1.385745  -1.240570   -1.113698   -0.480931  ...   \n",
       "3  1.455921  0.910730   1.234835    1.069341    0.423453  ...   \n",
       "4 -0.601706 -0.620254  -0.776432    1.069341   -0.375420  ...   \n",
       "\n",
       "   purpose_medical  purpose_moving  purpose_other  purpose_renewable_energy  \\\n",
       "0                0               0              0                         0   \n",
       "1                0               0              0                         0   \n",
       "2                0               0              0                         0   \n",
       "3                0               0              0                         0   \n",
       "4                0               0              0                         0   \n",
       "\n",
       "   purpose_small_business  purpose_vacation  purpose_wedding  \\\n",
       "0                       0                 0                0   \n",
       "1                       0                 0                0   \n",
       "2                       0                 0                0   \n",
       "3                       0                 0                0   \n",
       "4                       0                 0                0   \n",
       "\n",
       "   initial_list_status_f  initial_list_status_w  loan_status  \n",
       "0                      1                      0            0  \n",
       "1                      0                      1            0  \n",
       "2                      0                      1            0  \n",
       "3                      1                      0            0  \n",
       "4                      0                      1            0  \n",
       "\n",
       "[5 rows x 61 columns]"
      ]
     },
     "execution_count": 554,
     "metadata": {},
     "output_type": "execute_result"
    }
   ],
   "source": [
    "train.head()"
   ]
  },
  {
   "cell_type": "code",
   "execution_count": 555,
   "id": "3c04432e",
   "metadata": {
    "scrolled": true
   },
   "outputs": [
    {
     "data": {
      "text/plain": [
       "loan_amnt                0\n",
       "funded_amnt              0\n",
       "funded_amnt_inv          0\n",
       "term                     0\n",
       "batch_enrolled           0\n",
       "                        ..\n",
       "purpose_vacation         0\n",
       "purpose_wedding          0\n",
       "initial_list_status_f    0\n",
       "initial_list_status_w    0\n",
       "loan_status              0\n",
       "Length: 61, dtype: int64"
      ]
     },
     "execution_count": 555,
     "metadata": {},
     "output_type": "execute_result"
    }
   ],
   "source": [
    "train.isna().sum()"
   ]
  },
  {
   "cell_type": "code",
   "execution_count": null,
   "id": "2535f133",
   "metadata": {},
   "outputs": [],
   "source": []
  },
  {
   "cell_type": "code",
   "execution_count": 556,
   "id": "537c18ef",
   "metadata": {},
   "outputs": [],
   "source": [
    "corr = train_without_encoded_var.corr()"
   ]
  },
  {
   "cell_type": "code",
   "execution_count": 572,
   "id": "a84e221d",
   "metadata": {},
   "outputs": [
    {
     "data": {
      "text/plain": [
       "Text(0.5, 1.05, 'Figure 3: correlation plot')"
      ]
     },
     "execution_count": 572,
     "metadata": {},
     "output_type": "execute_result"
    },
    {
     "data": {
      "image/png": "[encoded data removed]",
      "text/plain": [
       "<Figure size 640x480 with 2 Axes>"
      ]
     },
     "metadata": {},
     "output_type": "display_data"
    }
   ],
   "source": [
    "ax = sns.heatmap(corr, cmap='coolwarm')\n",
    "ax.text(0.5, 1.05, f'Figure {3}: correlation plot', transform=ax.transAxes, fontsize=12, ha='center')"
   ]
  },
  {
   "cell_type": "code",
   "execution_count": null,
   "id": "1506a432",
   "metadata": {},
   "outputs": [],
   "source": []
  },
  {
   "cell_type": "markdown",
   "id": "1c1af687",
   "metadata": {},
   "source": [
    "### Model Building"
   ]
  },
  {
   "cell_type": "code",
   "execution_count": 398,
   "id": "69c00364",
   "metadata": {},
   "outputs": [],
   "source": [
    "train_data, test_data = train_test_split(train, test_size=0.2, random_state=25)"
   ]
  },
  {
   "cell_type": "code",
   "execution_count": 399,
   "id": "ed17bb80",
   "metadata": {},
   "outputs": [],
   "source": [
    "training_data = pd.DataFrame(train_data, columns=train.columns)\n",
    "testing_data = pd.DataFrame(test_data,columns=train.columns)"
   ]
  },
  {
   "cell_type": "code",
   "execution_count": 400,
   "id": "27017ef3",
   "metadata": {},
   "outputs": [],
   "source": [
    "x_train = training_data.drop(['loan_status'],axis=1)\n",
    "y_train = training_data['loan_status']\n",
    "x_test = testing_data.drop(['loan_status'],axis=1)\n",
    "y_test = testing_data['loan_status']"
   ]
  },
  {
   "cell_type": "code",
   "execution_count": null,
   "id": "d65953ce",
   "metadata": {},
   "outputs": [],
   "source": []
  },
  {
   "cell_type": "code",
   "execution_count": 401,
   "id": "8065a200",
   "metadata": {},
   "outputs": [],
   "source": [
    "pca = PCA(n_components = 30)"
   ]
  },
  {
   "cell_type": "code",
   "execution_count": 402,
   "id": "2aea88c2",
   "metadata": {},
   "outputs": [],
   "source": [
    "df_train_pca = pd.DataFrame(pca.fit_transform(x_train))"
   ]
  },
  {
   "cell_type": "code",
   "execution_count": 403,
   "id": "3e5a83a5",
   "metadata": {},
   "outputs": [],
   "source": [
    "explained_variance = np.cumsum(pca.explained_variance_ratio_)"
   ]
  },
  {
   "cell_type": "code",
   "execution_count": 404,
   "id": "0750043e",
   "metadata": {},
   "outputs": [],
   "source": [
    "explained_variance"
   ]
  },
  {
   "cell_type": "code",
   "execution_count": 405,
   "id": "cd5d8ce9",
   "metadata": {},
   "outputs": [],
   "source": [
    "df_test_pca = pd.DataFrame(pca.fit_transform(x_test))"
   ]
  },
  {
   "cell_type": "code",
   "execution_count": null,
   "id": "38e0a738",
   "metadata": {},
   "outputs": [],
   "source": []
  },
  {
   "cell_type": "markdown",
   "id": "4b0a94e6",
   "metadata": {},
   "source": [
    "### Gridsearch for logistic regression"
   ]
  },
  {
   "cell_type": "code",
   "execution_count": 406,
   "id": "e8ba7c99",
   "metadata": {},
   "outputs": [],
   "source": [
    "logreg = LogisticRegression(max_iter =1000)"
   ]
  },
  {
   "cell_type": "code",
   "execution_count": 407,
   "id": "79f91ab2",
   "metadata": {},
   "outputs": [],
   "source": [
    "param_grid = {'C': [0.0001,0.001,0.0015,0.002],\n",
    "              'class_weight': ['balanced'],\n",
    "              'penalty': ['l1', 'l2']}"
   ]
  },
  {
   "cell_type": "code",
   "execution_count": 408,
   "id": "e9bb6b5f",
   "metadata": {},
   "outputs": [],
   "source": [
    "recall_scorer = make_scorer(recall_score, pos_label=1)"
   ]
  },
  {
   "cell_type": "code",
   "execution_count": 409,
   "id": "df0c5baa",
   "metadata": {},
   "outputs": [],
   "source": [
    "grid_search = GridSearchCV(logreg, param_grid=param_grid, scoring=recall_scorer, cv=5)"
   ]
  },
  {
   "cell_type": "code",
   "execution_count": 410,
   "id": "0b47af82",
   "metadata": {},
   "outputs": [],
   "source": [
    "grid_search.fit(x_train, y_train)"
   ]
  },
  {
   "cell_type": "code",
   "execution_count": 411,
   "id": "cefeadbb",
   "metadata": {},
   "outputs": [],
   "source": [
    "print(\"Best parameters:\", grid_search.best_params_)\n",
    "print(\"Best precision score:\", grid_search.best_score_)"
   ]
  },
  {
   "cell_type": "code",
   "execution_count": 412,
   "id": "259f389e",
   "metadata": {},
   "outputs": [],
   "source": [
    "y_pred = grid_search.best_estimator_.predict(x_test)"
   ]
  },
  {
   "cell_type": "code",
   "execution_count": null,
   "id": "e94bb406",
   "metadata": {},
   "outputs": [],
   "source": []
  },
  {
   "cell_type": "markdown",
   "id": "56f4f625",
   "metadata": {},
   "source": [
    "### Best Logistic Regression Model"
   ]
  },
  {
   "cell_type": "code",
   "execution_count": 413,
   "id": "a0104689",
   "metadata": {},
   "outputs": [],
   "source": [
    "clf = LogisticRegression(class_weight = 'balanced',max_iter=1000,C= 0.0015,penalty ='l2').fit(x_train, y_train)"
   ]
  },
  {
   "cell_type": "code",
   "execution_count": 414,
   "id": "3d5c13fe",
   "metadata": {},
   "outputs": [],
   "source": [
    "y_pred  = clf.predict(x_test)"
   ]
  },
  {
   "cell_type": "code",
   "execution_count": 415,
   "id": "e7c8a289",
   "metadata": {},
   "outputs": [],
   "source": [
    "accuracy_train = clf.score(x_train, y_train)\n",
    "print(\"Train Accuracy:\", accuracy_train)"
   ]
  },
  {
   "cell_type": "code",
   "execution_count": 416,
   "id": "0b62a764",
   "metadata": {},
   "outputs": [],
   "source": [
    "accuracy_test = clf.score(x_test, y_test)\n",
    "print(\"Test Accuracy:\", accuracy_test)"
   ]
  },
  {
   "cell_type": "code",
   "execution_count": 417,
   "id": "49990ff0",
   "metadata": {},
   "outputs": [],
   "source": [
    "confusion_matrix(y_test,y_pred)"
   ]
  },
  {
   "cell_type": "code",
   "execution_count": 418,
   "id": "df3bf8b0",
   "metadata": {},
   "outputs": [],
   "source": [
    "precision = precision_score(y_test,y_pred)\n",
    "print(\"test precision\",precision)"
   ]
  },
  {
   "cell_type": "code",
   "execution_count": 419,
   "id": "a4f8cf0b",
   "metadata": {},
   "outputs": [],
   "source": [
    "recall = recall_score(y_test,y_pred)\n",
    "#print(\"test Recall\",recall)"
   ]
  },
  {
   "cell_type": "code",
   "execution_count": 420,
   "id": "0f2a84af",
   "metadata": {},
   "outputs": [],
   "source": [
    "f1_score(y_test, y_pred)"
   ]
  },
  {
   "cell_type": "code",
   "execution_count": null,
   "id": "1ccb6970",
   "metadata": {},
   "outputs": [],
   "source": []
  },
  {
   "cell_type": "markdown",
   "id": "2de3659f",
   "metadata": {},
   "source": [
    "### Gridsearch for DecisionTreeClassifier"
   ]
  },
  {
   "cell_type": "code",
   "execution_count": 421,
   "id": "a6b32a80",
   "metadata": {},
   "outputs": [],
   "source": [
    "decision_tree = DecisionTreeClassifier()"
   ]
  },
  {
   "cell_type": "code",
   "execution_count": 422,
   "id": "8ed5708c",
   "metadata": {},
   "outputs": [],
   "source": [
    "param_grid = {\n",
    "    'max_depth': [5,6],\n",
    "    'min_samples_split': [2, 3],\n",
    "    'min_samples_leaf': [1, 2]\n",
    "}"
   ]
  },
  {
   "cell_type": "code",
   "execution_count": 423,
   "id": "b5e288c6",
   "metadata": {},
   "outputs": [],
   "source": [
    "recall_scorer = make_scorer(recall_score, pos_label=1)"
   ]
  },
  {
   "cell_type": "code",
   "execution_count": 424,
   "id": "7a096060",
   "metadata": {},
   "outputs": [],
   "source": [
    "grid_search = GridSearchCV(decision_tree, param_grid=param_grid, scoring=recall_scorer, cv=5)"
   ]
  },
  {
   "cell_type": "code",
   "execution_count": 425,
   "id": "a6122ee9",
   "metadata": {},
   "outputs": [],
   "source": [
    "grid_search.fit(x_train, y_train)"
   ]
  },
  {
   "cell_type": "code",
   "execution_count": 426,
   "id": "ab44202d",
   "metadata": {},
   "outputs": [],
   "source": [
    "print(\"Best parameters:\", grid_search.best_params_)\n",
    "print(\"Best precision score:\", grid_search.best_score_)"
   ]
  },
  {
   "cell_type": "code",
   "execution_count": 427,
   "id": "c1c5c90e",
   "metadata": {},
   "outputs": [],
   "source": [
    "y_pred = grid_search.best_estimator_.predict(x_test)"
   ]
  },
  {
   "cell_type": "code",
   "execution_count": null,
   "id": "f4c9ded0",
   "metadata": {},
   "outputs": [],
   "source": []
  },
  {
   "cell_type": "code",
   "execution_count": null,
   "id": "c153f167",
   "metadata": {},
   "outputs": [],
   "source": []
  },
  {
   "cell_type": "markdown",
   "id": "fc7d1c15",
   "metadata": {},
   "source": [
    "### Best Decision Tree Model"
   ]
  },
  {
   "cell_type": "code",
   "execution_count": 428,
   "id": "fb0808dc",
   "metadata": {},
   "outputs": [],
   "source": [
    "decision_tree = DecisionTreeClassifier(max_depth=5,class_weight = 'balanced',min_samples_split =2,min_samples_leaf=2)\n",
    "decision_tree.fit(x_train, y_train)"
   ]
  },
  {
   "cell_type": "code",
   "execution_count": 429,
   "id": "61af65c3",
   "metadata": {},
   "outputs": [],
   "source": [
    "y_pred = decision_tree.predict(x_test)"
   ]
  },
  {
   "cell_type": "code",
   "execution_count": 430,
   "id": "a3ecc418",
   "metadata": {},
   "outputs": [],
   "source": [
    "accuracy_train = decision_tree.score(x_train, y_train)\n",
    "print(\"Train Accuracy:\", accuracy_train)"
   ]
  },
  {
   "cell_type": "code",
   "execution_count": 431,
   "id": "5cd9ef09",
   "metadata": {},
   "outputs": [],
   "source": [
    "accuracy_test = decision_tree.score(x_test, y_test)\n",
    "print(\"Test Accuracy:\", accuracy_test)"
   ]
  },
  {
   "cell_type": "code",
   "execution_count": 432,
   "id": "2a6bd761",
   "metadata": {},
   "outputs": [],
   "source": [
    "confusion_matrix(y_test,y_pred)"
   ]
  },
  {
   "cell_type": "code",
   "execution_count": 433,
   "id": "c72f2ccf",
   "metadata": {},
   "outputs": [],
   "source": [
    "precision = precision_score(y_test,y_pred)\n",
    "print(\"test precision\",precision)"
   ]
  },
  {
   "cell_type": "code",
   "execution_count": 434,
   "id": "6b12f880",
   "metadata": {},
   "outputs": [],
   "source": [
    "recall = recall_score(y_test,y_pred)\n",
    "print(\"test recall\",recall)"
   ]
  },
  {
   "cell_type": "code",
   "execution_count": 435,
   "id": "8416229f",
   "metadata": {},
   "outputs": [],
   "source": [
    "f1_score(y_test, y_pred)"
   ]
  },
  {
   "cell_type": "code",
   "execution_count": null,
   "id": "53251c9d",
   "metadata": {},
   "outputs": [],
   "source": []
  },
  {
   "cell_type": "code",
   "execution_count": null,
   "id": "a87331f1",
   "metadata": {},
   "outputs": [],
   "source": []
  },
  {
   "cell_type": "markdown",
   "id": "babc82be",
   "metadata": {},
   "source": [
    "### Grid Search for XGB"
   ]
  },
  {
   "cell_type": "code",
   "execution_count": 436,
   "id": "0bde3986",
   "metadata": {},
   "outputs": [],
   "source": [
    "xgb = XGBClassifier()"
   ]
  },
  {
   "cell_type": "code",
   "execution_count": 437,
   "id": "ae2a3a27",
   "metadata": {},
   "outputs": [],
   "source": [
    "param_grid = {\n",
    "    'learning_rate': [0.01, 0.05, 0.1, 0.2],\n",
    "    'max_depth': [3, 4, 5, 6],\n",
    "    'n_estimators': [50, 100, 200, 300],\n",
    "    'subsample': [0.5, 0.7, 0.9],\n",
    "    'colsample_bytree': [0.5, 0.7, 0.9]\n",
    "}"
   ]
  },
  {
   "cell_type": "code",
   "execution_count": 438,
   "id": "e948cd79",
   "metadata": {},
   "outputs": [],
   "source": [
    "recall_scorer = make_scorer(recall_score, pos_label=1)"
   ]
  },
  {
   "cell_type": "code",
   "execution_count": 439,
   "id": "74e39022",
   "metadata": {},
   "outputs": [],
   "source": [
    "grid_search = GridSearchCV(xgb, param_grid=param_grid,scoring=recall_scorer, cv=5)\n",
    "grid_search.fit(x_train, y_train)"
   ]
  },
  {
   "cell_type": "code",
   "execution_count": 440,
   "id": "5bb6f40a",
   "metadata": {},
   "outputs": [],
   "source": [
    "print(\"Best hyperparameters: \", grid_search.best_params_)\n",
    "print(\"Best accuracy score: \", grid_search.best_score_)"
   ]
  },
  {
   "cell_type": "code",
   "execution_count": null,
   "id": "31b9afdc",
   "metadata": {},
   "outputs": [],
   "source": []
  },
  {
   "cell_type": "markdown",
   "id": "a64fc423",
   "metadata": {},
   "source": [
    "### Best XGB Model"
   ]
  },
  {
   "cell_type": "code",
   "execution_count": 441,
   "id": "328233c7",
   "metadata": {},
   "outputs": [],
   "source": [
    "clf = XGBClassifier(n_estimators=100,learning_rate=0.1,scale_pos_weight=20)"
   ]
  },
  {
   "cell_type": "code",
   "execution_count": 442,
   "id": "125f390a",
   "metadata": {
    "scrolled": true
   },
   "outputs": [
    {
     "data": {
      "text/plain": [
       "XGBClassifier(base_score=None, booster=None, callbacks=None,\n",
       "              colsample_bylevel=None, colsample_bynode=None,\n",
       "              colsample_bytree=None, early_stopping_rounds=None,\n",
       "              enable_categorical=False, eval_metric=None, feature_types=None,\n",
       "              gamma=None, gpu_id=None, grow_policy=None, importance_type=None,\n",
       "              interaction_constraints=None, learning_rate=0.1, max_bin=None,\n",
       "              max_cat_threshold=None, max_cat_to_onehot=None,\n",
       "              max_delta_step=None, max_depth=None, max_leaves=None,\n",
       "              min_child_weight=None, missing=nan, monotone_constraints=None,\n",
       "              n_estimators=100, n_jobs=None, num_parallel_tree=None,\n",
       "              predictor=None, random_state=None, ...)"
      ]
     },
     "execution_count": 442,
     "metadata": {},
     "output_type": "execute_result"
    }
   ],
   "source": [
    "clf.fit(x_train, y_train)"
   ]
  },
  {
   "cell_type": "code",
   "execution_count": 443,
   "id": "7ca912f7",
   "metadata": {},
   "outputs": [],
   "source": [
    "y_pred = clf.predict(x_test)"
   ]
  },
  {
   "cell_type": "code",
   "execution_count": 444,
   "id": "2e39abbb",
   "metadata": {},
   "outputs": [
    {
     "name": "stdout",
     "output_type": "stream",
     "text": [
      "Train Accuracy: 0.6131332611467417\n"
     ]
    }
   ],
   "source": [
    "accuracy_train = clf.score(x_train, y_train)\n",
    "print(\"Train Accuracy:\", accuracy_train)"
   ]
  },
  {
   "cell_type": "code",
   "execution_count": 445,
   "id": "1680a8b1",
   "metadata": {},
   "outputs": [
    {
     "name": "stdout",
     "output_type": "stream",
     "text": [
      "Test Accuracy: 0.6064788118761132\n"
     ]
    }
   ],
   "source": [
    "accuracy_test = clf.score(x_test, y_test)\n",
    "print(\"Test Accuracy:\", accuracy_test)"
   ]
  },
  {
   "cell_type": "code",
   "execution_count": 446,
   "id": "e6f12a49",
   "metadata": {},
   "outputs": [
    {
     "data": {
      "text/plain": [
       "array([[32661, 30413],\n",
       "       [  297, 14668]], dtype=int64)"
      ]
     },
     "execution_count": 446,
     "metadata": {},
     "output_type": "execute_result"
    }
   ],
   "source": [
    "confusion_matrix(y_test,y_pred)"
   ]
  },
  {
   "cell_type": "code",
   "execution_count": 447,
   "id": "d1d1b0ef",
   "metadata": {},
   "outputs": [
    {
     "name": "stdout",
     "output_type": "stream",
     "text": [
      "test precision 0.32536988975399833\n"
     ]
    }
   ],
   "source": [
    "precision = precision_score(y_test,y_pred)\n",
    "print(\"test precision\",precision)"
   ]
  },
  {
   "cell_type": "code",
   "execution_count": 448,
   "id": "a86431ca",
   "metadata": {},
   "outputs": [
    {
     "name": "stdout",
     "output_type": "stream",
     "text": [
      "test recall 0.9801536919478784\n"
     ]
    }
   ],
   "source": [
    "recall = recall_score(y_test,y_pred)\n",
    "print(\"test recall\",recall)"
   ]
  },
  {
   "cell_type": "code",
   "execution_count": 449,
   "id": "ca223ea3",
   "metadata": {},
   "outputs": [
    {
     "data": {
      "text/plain": [
       "0.48855877160843353"
      ]
     },
     "execution_count": 449,
     "metadata": {},
     "output_type": "execute_result"
    }
   ],
   "source": [
    "f1_score(y_test, y_pred)"
   ]
  },
  {
   "cell_type": "code",
   "execution_count": null,
   "id": "1991383b",
   "metadata": {},
   "outputs": [],
   "source": []
  }
 ],
 "metadata": {
  "kernelspec": {
   "display_name": "Python 3 (ipykernel)",
   "language": "python",
   "name": "python3"
  },
  "language_info": {
   "codemirror_mode": {
    "name": "ipython",
    "version": 3
   },
   "file_extension": ".py",
   "mimetype": "text/x-python",
   "name": "python",
   "nbconvert_exporter": "python",
   "pygments_lexer": "ipython3",
   "version": "3.9.13"
  }
 },
 "nbformat": 4,
 "nbformat_minor": 5
}
